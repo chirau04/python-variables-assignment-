{
 "cells": [
  {
   "cell_type": "markdown",
   "id": "086ff9b5-5744-491a-a049-4fd1f3cf6ea2",
   "metadata": {},
   "source": [
    "here are some common conventions for declaring a variables in programming"
   ]
  },
  {
   "cell_type": "raw",
   "id": "04513326-e776-4d08-8578-e1efbf909319",
   "metadata": {},
   "source": [
    "1. descriptive names\n",
    "2.camelcase\n",
    "3. avoid keywords\n",
    "4.consistency\n",
    "5.use underscores\n",
    "6. avoid single-letter names\n",
    "7. declare close to use \n",
    "8. initialize when declared \n"
   ]
  },
  {
   "cell_type": "markdown",
   "id": "b47a998a-eebf-4043-8740-31ff76219732",
   "metadata": {},
   "source": [
    "if we declare a variable with a restricted keyword, it will likely result in a compilation or runtime error.\n",
    "programming languages reserve certain keywords for specific purposes, such as defining language constructs, operations , or control flow.\n",
    "\n",
    "using a restricted keyword as a variable name violates the language rules , and the compiler or intrepreter will raise an error. This is done to prevent ambiguity and ensure the proper functioning of the languaage's syntax. \n",
    "\n",
    "it's essential to avoid using reserved keywords as variables names to maintain code integrity and adhere to language specifications ."
   ]
  },
  {
   "cell_type": "code",
   "execution_count": 4,
   "id": "817f4482-cdf3-4b05-9f24-fc233046a0a9",
   "metadata": {},
   "outputs": [
    {
     "name": "stdout",
     "output_type": "stream",
     "text": [
      "hello, world!\n"
     ]
    }
   ],
   "source": [
    "my_variable= \"hello, world!\"\n",
    "print(my_variable)"
   ]
  },
  {
   "cell_type": "markdown",
   "id": "80e94aba-6698-470a-9c88-40dea8623f76",
   "metadata": {},
   "source": [
    "yes, in many programing languages, you can use an underscore(_)as a variable name.it's often used as a convention for a variable that you dont intend to use or ignore . here is an example in python"
   ]
  },
  {
   "cell_type": "code",
   "execution_count": 5,
   "id": "e806ba88-2a69-4573-9ef6-b423cba14ddb",
   "metadata": {},
   "outputs": [
    {
     "name": "stdout",
     "output_type": "stream",
     "text": [
      "42\n"
     ]
    }
   ],
   "source": [
    "_ = 42\n",
    "print(_)"
   ]
  },
  {
   "cell_type": "markdown",
   "id": "dbaa73ef-54dd-4761-be09-fc9570d1c794",
   "metadata": {},
   "source": [
    "# dynamic typing example in python"
   ]
  },
  {
   "cell_type": "code",
   "execution_count": 6,
   "id": "9a97c6a8-2f5a-4e23-8d80-a79180d2eb8b",
   "metadata": {},
   "outputs": [
    {
     "name": "stdout",
     "output_type": "stream",
     "text": [
      "x: 5 type: <class 'int'>\n"
     ]
    }
   ],
   "source": [
    "x = 5\n",
    "print(\"x:\", x, \"type:\", type(x))"
   ]
  },
  {
   "cell_type": "code",
   "execution_count": 7,
   "id": "4b503ea5-66e1-4284-80a4-6cf28190ae35",
   "metadata": {},
   "outputs": [
    {
     "name": "stdout",
     "output_type": "stream",
     "text": [
      "x: hello,python! type: <class 'str'>\n"
     ]
    }
   ],
   "source": [
    "x = \"hello,python!\"\n",
    "print(\"x:\", x, \"type:\", type(x))"
   ]
  },
  {
   "cell_type": "code",
   "execution_count": 9,
   "id": "79b80047-946f-4146-a9e6-1d2bc5130b8b",
   "metadata": {},
   "outputs": [
    {
     "name": "stdout",
     "output_type": "stream",
     "text": [
      "x: [1, 2, 3] type: <class 'list'>\n"
     ]
    }
   ],
   "source": [
    "x = [1,2,3]\n",
    "print(\"x:\", x, \"type:\", type(x))"
   ]
  },
  {
   "cell_type": "code",
   "execution_count": null,
   "id": "8f13b4ac-fb93-4c0e-8208-5ac93115f5e9",
   "metadata": {},
   "outputs": [],
   "source": []
  }
 ],
 "metadata": {
  "kernelspec": {
   "display_name": "Python 3 (ipykernel)",
   "language": "python",
   "name": "python3"
  },
  "language_info": {
   "codemirror_mode": {
    "name": "ipython",
    "version": 3
   },
   "file_extension": ".py",
   "mimetype": "text/x-python",
   "name": "python",
   "nbconvert_exporter": "python",
   "pygments_lexer": "ipython3",
   "version": "3.10.8"
  }
 },
 "nbformat": 4,
 "nbformat_minor": 5
}
